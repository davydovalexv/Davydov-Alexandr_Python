{
 "cells": [
  {
   "cell_type": "code",
   "execution_count": 11,
   "id": "0e7f7536",
   "metadata": {},
   "outputs": [
    {
     "name": "stdout",
     "output_type": "stream",
     "text": [
      "Номер не валиден.\n",
      "Номер А222ВС валиден. Регион: 96.\n",
      "Номер не валиден.\n",
      "Номер О123МН валиден. Регион: 777.\n",
      "Номер не валиден.\n"
     ]
    }
   ],
   "source": [
    "def check_car_id(car_id: str):\n",
    "    # Разрешённые буквы в российских госномерах\n",
    "    allowed_letters = \"АВЕКМНОРСТУХ\"\n",
    "\n",
    "    # Проверка длины: 8 или 9 символов (в зависимости от региона)\n",
    "    if len(car_id) not in (8, 9):\n",
    "        print(\"Номер не валиден.\")\n",
    "        return\n",
    "\n",
    "    # Проверяем части номера\n",
    "    if (car_id[0] in allowed_letters and\n",
    "        car_id[1:4].isdigit() and\n",
    "        car_id[4] in allowed_letters and\n",
    "        car_id[5] in allowed_letters and\n",
    "        car_id[6:].isdigit() and\n",
    "        2 <= len(car_id[6:]) <= 3):\n",
    "        \n",
    "        number = car_id[:6]\n",
    "        region = car_id[6:]\n",
    "        print(f\"Номер {number} валиден. Регион: {region}.\")\n",
    "    else:\n",
    "        print(\"Номер не валиден.\")\n",
    "        \n",
    "check_car_id ('АБ22ВВ193') \n",
    "check_car_id('А222ВС96') \n",
    "check_car_id('АБ22ВВ193')  \n",
    "check_car_id('О123МН777')  \n",
    "check_car_id('А222ВС1')    \n",
    "        \n",
    "       "
   ]
  },
  {
   "cell_type": "code",
   "execution_count": null,
   "id": "575e6e72",
   "metadata": {},
   "outputs": [],
   "source": []
  }
 ],
 "metadata": {
  "kernelspec": {
   "display_name": "Python 3 (ipykernel)",
   "language": "python",
   "name": "python3"
  },
  "language_info": {
   "codemirror_mode": {
    "name": "ipython",
    "version": 3
   },
   "file_extension": ".py",
   "mimetype": "text/x-python",
   "name": "python",
   "nbconvert_exporter": "python",
   "pygments_lexer": "ipython3",
   "version": "3.13.3"
  }
 },
 "nbformat": 4,
 "nbformat_minor": 5
}
