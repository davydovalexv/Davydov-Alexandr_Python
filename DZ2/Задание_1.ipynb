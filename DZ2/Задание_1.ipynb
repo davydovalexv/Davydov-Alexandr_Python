{
 "cells": [
  {
   "cell_type": "code",
   "execution_count": 1,
   "id": "3053344a",
   "metadata": {},
   "outputs": [
    {
     "name": "stdout",
     "output_type": "stream",
     "text": [
      "The Moscow Times: 2002-10-02\n",
      "The Guardian: 2013-10-11\n",
      "Daily News: 1977-08-18\n"
     ]
    }
   ],
   "source": [
    "from datetime import datetime # импортируем либру для работы с датами\n",
    "\n",
    "dates = {\n",
    "    \"The Moscow Times\": \"Wednesday, October 2, 2002\",\n",
    "    \"The Guardian\": \"Friday, 11.10.13\",\n",
    "    \"Daily News\": \"Thursday, 18 August 1977\"\n",
    "} # Исходные данные\n",
    "\n",
    "formats = {\n",
    "    \"The Moscow Times\": \"%A, %B %d, %Y\",\n",
    "    \"The Guardian\": \"%A, %d.%m.%y\",\n",
    "    \"Daily News\": \"%A, %d %B %Y\"\n",
    "} # Форматы для каждой даты газеты\n",
    "\n",
    "# Преобразование строк в объекты datetime\n",
    "for newspaper, date_str in dates.items():\n",
    "    date_obj = datetime.strptime(date_str, formats[newspaper]).date()  # Используем .date() для получения только даты\n",
    "    print(f\"{newspaper}: {date_obj}\")\n"
   ]
  },
  {
   "cell_type": "code",
   "execution_count": null,
   "id": "efdee162",
   "metadata": {},
   "outputs": [],
   "source": []
  }
 ],
 "metadata": {
  "kernelspec": {
   "display_name": "Python 3 (ipykernel)",
   "language": "python",
   "name": "python3"
  },
  "language_info": {
   "codemirror_mode": {
    "name": "ipython",
    "version": 3
   },
   "file_extension": ".py",
   "mimetype": "text/x-python",
   "name": "python",
   "nbconvert_exporter": "python",
   "pygments_lexer": "ipython3",
   "version": "3.13.3"
  }
 },
 "nbformat": 4,
 "nbformat_minor": 5
}
