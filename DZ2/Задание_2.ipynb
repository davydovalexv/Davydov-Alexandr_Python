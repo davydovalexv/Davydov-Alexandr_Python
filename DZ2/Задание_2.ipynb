{
 "cells": [
  {
   "cell_type": "code",
   "execution_count": 3,
   "id": "3053344a",
   "metadata": {},
   "outputs": [
    {
     "name": "stdout",
     "output_type": "stream",
     "text": [
      "['2025-01-01', '2025-01-02', '2025-01-03', '2025-01-04', '2025-01-05', '2025-01-06', '2025-01-07', '2025-01-08', '2025-01-09', '2025-01-10', '2025-01-11', '2025-01-12', '2025-01-13']\n"
     ]
    }
   ],
   "source": [
    "from datetime import datetime, timedelta # импортируем либру для работы с датами и либру для вычисления разниц\n",
    "\n",
    "def date_range(start_date, end_date):\n",
    "    # Проверка формата и преобразование строк в объекты datetime\n",
    "    try:\n",
    "        start = datetime.strptime(start_date, \"%Y-%m-%d\")\n",
    "        end = datetime.strptime(end_date, \"%Y-%m-%d\")\n",
    "    except ValueError:\n",
    "        return []  # Возвращаем пустой список при неверном формате\n",
    "\n",
    "    # Проверка, что start_date не больше end_date\n",
    "    if start > end:\n",
    "        return print(\"Поменяйте даты местамиЁ!\")\n",
    "\n",
    "    # Генерация списка дат\n",
    "    date_list = []\n",
    "    current_date = start\n",
    "    while current_date <= end:\n",
    "        date_list.append(current_date.strftime(\"%Y-%m-%d\"))\n",
    "        current_date += timedelta(days=1)\n",
    "\n",
    "    return date_list\n",
    "\n",
    "print(date_range('2025-01-01', '2025-01-13'))"
   ]
  },
  {
   "cell_type": "code",
   "execution_count": null,
   "id": "efdee162",
   "metadata": {},
   "outputs": [],
   "source": []
  }
 ],
 "metadata": {
  "kernelspec": {
   "display_name": "Python 3 (ipykernel)",
   "language": "python",
   "name": "python3"
  },
  "language_info": {
   "codemirror_mode": {
    "name": "ipython",
    "version": 3
   },
   "file_extension": ".py",
   "mimetype": "text/x-python",
   "name": "python",
   "nbconvert_exporter": "python",
   "pygments_lexer": "ipython3",
   "version": "3.13.3"
  }
 },
 "nbformat": 4,
 "nbformat_minor": 5
}
